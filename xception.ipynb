{
  "nbformat": 4,
  "nbformat_minor": 0,
  "metadata": {
    "colab": {
      "provenance": [],
      "authorship_tag": "ABX9TyPBwgrBJ8oVSql8eBsnhj3g",
      "include_colab_link": true
    },
    "kernelspec": {
      "name": "python3",
      "display_name": "Python 3"
    },
    "language_info": {
      "name": "python"
    }
  },
  "cells": [
    {
      "cell_type": "markdown",
      "metadata": {
        "id": "view-in-github",
        "colab_type": "text"
      },
      "source": [
        "<a href=\"https://colab.research.google.com/github/dDxCg/DFD-SafeSurf/blob/Model/xception.ipynb\" target=\"_parent\"><img src=\"https://colab.research.google.com/assets/colab-badge.svg\" alt=\"Open In Colab\"/></a>"
      ]
    },
    {
      "cell_type": "code",
      "execution_count": 1,
      "metadata": {
        "id": "op_1Dmy6M38r"
      },
      "outputs": [],
      "source": [
        "import torch.nn as nn\n",
        "import torch.nn.functional as F\n",
        "import torch"
      ]
    },
    {
      "cell_type": "code",
      "source": [
        "class SeparableConv3d(nn.Module):\n",
        "    def __init__(self,in_channels,out_channels,kernel_size=1,stride=1,padding=0,dilation=1,bias=False):\n",
        "        super(SeparableConv3d,self).__init__()\n",
        "\n",
        "        self.conv1     = nn.Conv3d(in_channels,in_channels,kernel_size,stride,padding,dilation,groups=in_channels,bias=bias)\n",
        "        self.pointwise = nn.Conv3d(in_channels,out_channels,1,1,0,1,1,bias=bias)\n",
        "\n",
        "    def forward(self,x):\n",
        "        x = self.conv1(x)\n",
        "        x = self.pointwise(x)\n",
        "        return x"
      ],
      "metadata": {
        "id": "IJHrfY8k8dfD"
      },
      "execution_count": 2,
      "outputs": []
    },
    {
      "cell_type": "code",
      "source": [
        "class Block(nn.Module):\n",
        "    def __init__(self,in_filters,out_filters,reps,strides=1,start_with_relu=True,grow_first=True):\n",
        "        super(Block, self).__init__()\n",
        "\n",
        "        if out_filters != in_filters or strides!=1:\n",
        "            self.skip   = nn.Conv3d(in_filters,out_filters,1,stride=strides, bias=False)\n",
        "            self.skipbn = nn.BatchNorm3d(out_filters)\n",
        "        else:\n",
        "            self.skip=None\n",
        "\n",
        "        rep=[]\n",
        "\n",
        "        filters=in_filters\n",
        "        if grow_first:\n",
        "            rep.append(nn.ReLU(inplace=True))\n",
        "            rep.append(SeparableConv3d(in_filters,out_filters,3,stride=1,padding=1,bias=False))\n",
        "            rep.append(nn.BatchNorm3d(out_filters))\n",
        "            filters = out_filters\n",
        "\n",
        "        for i in range(reps-1):\n",
        "            rep.append(nn.ReLU(inplace=True))\n",
        "            rep.append(SeparableConv3d(filters,filters,3,stride=1,padding=1,bias=False))\n",
        "            rep.append(nn.BatchNorm3d(filters))\n",
        "\n",
        "        if not grow_first:\n",
        "            rep.append(nn.ReLU(inplace=True))\n",
        "            rep.append(SeparableConv3d(in_filters,out_filters,3,stride=1,padding=1,bias=False))\n",
        "            rep.append(nn.BatchNorm3d(out_filters))\n",
        "\n",
        "        if not start_with_relu:\n",
        "            rep = rep[1:]\n",
        "        else:\n",
        "            rep[0] = nn.ReLU(inplace=False)\n",
        "\n",
        "        if strides != 1:\n",
        "            rep.append(nn.MaxPool3d(3,strides,1))\n",
        "        self.rep = nn.Sequential(*rep)\n",
        "\n",
        "    def forward(self,inp):\n",
        "        x = self.rep(inp)\n",
        "\n",
        "        if self.skip is not None:\n",
        "            skip = self.skip(inp)\n",
        "            skip = self.skipbn(skip)\n",
        "        else:\n",
        "            skip = inp\n",
        "\n",
        "        x+=skip\n",
        "        return x\n"
      ],
      "metadata": {
        "id": "ghS24JmK8sKM"
      },
      "execution_count": 3,
      "outputs": []
    },
    {
      "cell_type": "code",
      "source": [
        "class Xception3d(nn.Module):\n",
        "    def __init__(self, num_classes=1):\n",
        "        super(Xception3d, self).__init__()\n",
        "\n",
        "        self.num_classes = num_classes\n",
        "\n",
        "# Reduce the size/dimension of the input videos\n",
        "\n",
        "        self.downsize = nn.MaxPool3d((10,3,3))\n",
        "\n",
        "# Entry Flow\n",
        "        self.conv1   = nn.Conv3d(3, 32, 3,1, 1, bias=False)\n",
        "        self.bn1     = nn.BatchNorm3d(32)\n",
        "        self.relu1   = nn.ReLU(inplace=True)\n",
        "\n",
        "        self.conv2   = nn.Conv3d(32,64,3,bias=False)\n",
        "        self.bn2     = nn.BatchNorm3d(64)\n",
        "        self.relu2   = nn.ReLU(inplace=True)\n",
        "\n",
        "        self.block1  = Block(64,128,3,2,start_with_relu=False,grow_first=True)\n",
        "        self.block2  = Block(128,256,3,1,start_with_relu=True,grow_first=True)\n",
        "        self.block3  = Block(256,728,3,2,start_with_relu=True,grow_first=True)\n",
        "# Middle Flow\n",
        "        self.block4  = Block(728,728,3,1,start_with_relu=True,grow_first=True)\n",
        "        self.block5  = Block(728,728,3,1,start_with_relu=True,grow_first=True)\n",
        "        self.block6  = Block(728,728,3,1,start_with_relu=True,grow_first=True)\n",
        "        self.block7  = Block(728,728,3,1,start_with_relu=True,grow_first=True)\n",
        "        self.block8  = Block(728,728,3,1,start_with_relu=True,grow_first=True)\n",
        "        self.block9  = Block(728,728,3,1,start_with_relu=True,grow_first=True)\n",
        "        self.block10 = Block(728,728,3,1,start_with_relu=True,grow_first=True)\n",
        "        self.block11 = Block(728,728,3,1,start_with_relu=True,grow_first=True)\n",
        "# Exit Flow\n",
        "        self.block12 = Block(728,1024,2,2,start_with_relu=True,grow_first=False)\n",
        "        self.conv3   = SeparableConv3d(1024,1536,3,1,1)\n",
        "        self.bn3     = nn.BatchNorm3d(1536)\n",
        "        self.relu3   = nn.ReLU(inplace=True)\n",
        "        self.conv4   = SeparableConv3d(1536,2048,3,1,1)\n",
        "        self.bn4     = nn.BatchNorm3d(2048)\n",
        "# Fully Connected Layers\n",
        "        self.fc1 = nn.Linear(2048, 256)\n",
        "        self.fc2 = nn.Linear(256, num_classes)\n",
        "\n",
        "    def features(self, input, audio=None):\n",
        "        x = self.downsize(input)\n",
        "        x = self.conv1(x)\n",
        "        x = self.bn1(x)\n",
        "        x = self.relu1(x)\n",
        "\n",
        "        x = self.conv2(x)\n",
        "        x = self.bn2(x)\n",
        "        x = self.relu2(x)\n",
        "\n",
        "        x = self.block1(x)\n",
        "        x = self.block2(x)\n",
        "        x = self.block3(x)\n",
        "        x = self.block5(x)\n",
        "        x = self.block6(x)\n",
        "        x = self.block7(x)\n",
        "        x = self.block8(x)\n",
        "        x = self.block9(x)\n",
        "        x = self.block10(x)\n",
        "        x = self.block11(x)\n",
        "        x = self.block12(x)\n",
        "        x = self.conv3(x)\n",
        "        x = self.bn3(x)\n",
        "        x = self.relu3(x)\n",
        "\n",
        "        x = self.conv4(x)\n",
        "        x = self.bn4(x)\n",
        "\n",
        "\n",
        "\n",
        "        return x\n",
        "\n",
        "    def logits(self, features, aud=None):\n",
        "        x = nn.ReLU(inplace=True)(features)\n",
        "        x = F.adaptive_avg_pool3d(x, (1, 1, 1))\n",
        "        x = x.view(x.size(0), -1)\n",
        "        x = self.fc1(x)\n",
        "        x = self.fc2(x)\n",
        "        return x\n",
        "\n",
        "    def forward(self, input, audio=None):\n",
        "        x = self.features(input)\n",
        "        x = self.logits(x)\n",
        "        return x\n"
      ],
      "metadata": {
        "id": "_-_rRU5d8sTi"
      },
      "execution_count": 4,
      "outputs": []
    }
  ]
}