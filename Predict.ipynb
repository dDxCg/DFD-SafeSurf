{
 "cells": [
  {
   "cell_type": "markdown",
   "metadata": {
    "colab_type": "text",
    "id": "view-in-github"
   },
   "source": [
    "<a href=\"https://colab.research.google.com/github/dDxCg/DFD-SafeSurf/blob/Model/Predict.ipynb\" target=\"_parent\"><img src=\"https://colab.research.google.com/assets/colab-badge.svg\" alt=\"Open In Colab\"/></a>"
   ]
  },
  {
   "cell_type": "code",
   "execution_count": 1,
   "metadata": {
    "colab": {
     "base_uri": "https://localhost:8080/"
    },
    "id": "ddyQ8HE8zeYj",
    "outputId": "ee2698f5-97f9-43ef-db9d-4c0fce4a5bc3"
   },
   "outputs": [
    {
     "name": "stdout",
     "output_type": "stream",
     "text": [
      "Mounted at /content/drive\n"
     ]
    }
   ],
   "source": [
    "#before running this please change the RUNTIME to GPU (Runtime -> Change runtime type -> set harware accelarotor as GPU)\n",
    "#Mount our google drive\n",
    "from google.colab import drive\n",
    "drive.mount('/content/drive')"
   ]
  },
  {
   "cell_type": "code",
   "execution_count": 2,
   "metadata": {
    "colab": {
     "base_uri": "https://localhost:8080/"
    },
    "id": "3vj15Vde0Gxs",
    "outputId": "173bfb29-e502-4287-bb09-48b699049cfe"
   },
   "outputs": [
    {
     "name": "stdout",
     "output_type": "stream",
     "text": [
      "Collecting face_recognition\n",
      "  Downloading face_recognition-1.3.0-py2.py3-none-any.whl.metadata (21 kB)\n",
      "Collecting face-recognition-models>=0.3.0 (from face_recognition)\n",
      "  Downloading face_recognition_models-0.3.0.tar.gz (100.1 MB)\n",
      "\u001b[2K     \u001b[90m━━━━━━━━━━━━━━━━━━━━━━━━━━━━━━━━━━━━━━━━\u001b[0m \u001b[32m100.1/100.1 MB\u001b[0m \u001b[31m7.3 MB/s\u001b[0m eta \u001b[36m0:00:00\u001b[0m\n",
      "\u001b[?25h  Preparing metadata (setup.py) ... \u001b[?25l\u001b[?25hdone\n",
      "Requirement already satisfied: Click>=6.0 in /usr/local/lib/python3.10/dist-packages (from face_recognition) (8.1.7)\n",
      "Requirement already satisfied: dlib>=19.7 in /usr/local/lib/python3.10/dist-packages (from face_recognition) (19.24.2)\n",
      "Requirement already satisfied: numpy in /usr/local/lib/python3.10/dist-packages (from face_recognition) (1.26.4)\n",
      "Requirement already satisfied: Pillow in /usr/local/lib/python3.10/dist-packages (from face_recognition) (11.0.0)\n",
      "Downloading face_recognition-1.3.0-py2.py3-none-any.whl (15 kB)\n",
      "Building wheels for collected packages: face-recognition-models\n",
      "  Building wheel for face-recognition-models (setup.py) ... \u001b[?25l\u001b[?25hdone\n",
      "  Created wheel for face-recognition-models: filename=face_recognition_models-0.3.0-py2.py3-none-any.whl size=100566162 sha256=3e3f63c379630ba6b8104a9eba42c5f3008522a7cfdaca2aafe97952bee720f7\n",
      "  Stored in directory: /root/.cache/pip/wheels/7a/eb/cf/e9eced74122b679557f597bb7c8e4c739cfcac526db1fd523d\n",
      "Successfully built face-recognition-models\n",
      "Installing collected packages: face-recognition-models, face_recognition\n",
      "Successfully installed face-recognition-models-0.3.0 face_recognition-1.3.0\n"
     ]
    }
   ],
   "source": [
    "#import libraries\n",
    "# !pip3 install face_recognition\n",
    "\n",
    "import torch\n",
    "import torchvision\n",
    "from torchvision import transforms\n",
    "from torch.utils.data import DataLoader\n",
    "from torch.utils.data.dataset import Dataset\n",
    "import os\n",
    "import numpy as np\n",
    "import cv2\n",
    "import matplotlib.pyplot as plt\n",
    "import face_recognition"
   ]
  },
  {
   "cell_type": "code",
   "execution_count": 3,
   "metadata": {
    "id": "C3r-9rMc1DmO"
   },
   "outputs": [],
   "source": [
    "#import libraries\n",
    "import torch\n",
    "from torch.autograd import Variable\n",
    "import time\n",
    "import os\n",
    "import sys\n",
    "import os\n",
    "from torch import nn\n",
    "from torchvision import models"
   ]
  },
  {
   "cell_type": "code",
   "execution_count": 4,
   "metadata": {
    "id": "g1G0IoVy2Pc7"
   },
   "outputs": [],
   "source": [
    "#Model with feature visualization\n",
    "from torch import nn\n",
    "from torchvision import models\n",
    "class Model(nn.Module):\n",
    "    def __init__(self, num_classes,latent_dim= 2048, lstm_layers=1 , hidden_dim = 2048, bidirectional = False):\n",
    "        super(Model, self).__init__()\n",
    "        model = models.resnext50_32x4d(pretrained = True)\n",
    "        self.model = nn.Sequential(*list(model.children())[:-2])\n",
    "        self.lstm = nn.LSTM(latent_dim,hidden_dim, lstm_layers,  bidirectional)\n",
    "        self.relu = nn.LeakyReLU()\n",
    "        self.dp = nn.Dropout(0.4)\n",
    "        self.linear1 = nn.Linear(2048,num_classes)\n",
    "        self.avgpool = nn.AdaptiveAvgPool2d(1)\n",
    "    def forward(self, x):\n",
    "        batch_size,seq_length, c, h, w = x.shape\n",
    "        x = x.view(batch_size * seq_length, c, h, w)\n",
    "        fmap = self.model(x)\n",
    "        x = self.avgpool(fmap)\n",
    "        x = x.view(batch_size,seq_length,2048)\n",
    "        x_lstm,_ = self.lstm(x,None)\n",
    "        return fmap,self.dp(self.linear1(x_lstm[:,-1,:]))"
   ]
  },
  {
   "cell_type": "code",
   "execution_count": 20,
   "metadata": {
    "id": "avpp16KLze7T"
   },
   "outputs": [],
   "source": [
    "im_size = 112\n",
    "mean=[0.485, 0.456, 0.406]\n",
    "std=[0.229, 0.224, 0.225]\n",
    "sm = nn.Softmax()\n",
    "inv_normalize =  transforms.Normalize(mean=-1*np.divide(mean,std),std=np.divide([1,1,1],std))\n",
    "def im_convert(tensor):\n",
    "    \"\"\" Display a tensor as an image. \"\"\"\n",
    "    image = tensor.to(\"cpu\").clone().detach()\n",
    "    image = image.squeeze()\n",
    "    image = inv_normalize(image)\n",
    "    image = image.numpy()\n",
    "    image = image.transpose(1,2,0)\n",
    "    image = image.clip(0, 1)\n",
    "    cv2.imwrite('./2.png',image*255)\n",
    "    return image\n",
    "\n",
    "\n",
    "device = torch.device('cuda' if torch.cuda.is_available() else 'cpu')\n",
    "def predict(model,img,path = './'):\n",
    "  fmap,logits = model(img.to(device))\n",
    "  params = list(model.parameters())\n",
    "  weight_softmax = model.linear1.weight.detach().cpu().numpy()\n",
    "  logits = sm(logits)\n",
    "  _,prediction = torch.max(logits,1)\n",
    "  confidence = logits[:,int(prediction.item())].item()*100\n",
    "  print('confidence of prediction:',logits[:,int(prediction.item())].item()*100)\n",
    "  # idx = np.argmax(logits.detach().cpu().numpy())\n",
    "  # bz, nc, h, w = fmap.shape\n",
    "  # out = np.dot(fmap[-1].detach().cpu().numpy().reshape((nc, h*w)).T,weight_softmax[idx,:].T)\n",
    "  # predict = out.reshape(h,w)\n",
    "  # predict = predict - np.min(predict)\n",
    "  # predict_img = predict / np.max(predict)\n",
    "  # predict_img = np.uint8(255*predict_img)\n",
    "  # out = cv2.resize(predict_img, (im_size,im_size))\n",
    "  # heatmap = cv2.applyColorMap(out, cv2.COLORMAP_JET)\n",
    "  # img = im_convert(img[:,-1,:,:,:])\n",
    "  # result = heatmap * 0.5 + img*0.8*255\n",
    "  # cv2.imwrite('/content/1.png',result)\n",
    "  # result1 = heatmap * 0.5/255 + img*0.8\n",
    "  # r,g,b = cv2.split(result1)\n",
    "  # result1 = cv2.merge((r,g,b))\n",
    "  # plt.imshow(result1)\n",
    "  # plt.show()\n",
    "  return [int(prediction.item()),confidence]"
   ]
  },
  {
   "cell_type": "code",
   "execution_count": 21,
   "metadata": {
    "id": "asSbpP8fzlFj"
   },
   "outputs": [],
   "source": [
    "class validation_dataset(Dataset):\n",
    "    def __init__(self,video_names,sequence_length = 40,transform = None):\n",
    "        self.video_names = video_names\n",
    "        self.transform = transform\n",
    "        self.count = sequence_length\n",
    "    def __len__(self):\n",
    "        return len(self.video_names)\n",
    "    def __getitem__(self,idx):\n",
    "        video_path = self.video_names[idx]\n",
    "        frames = []\n",
    "        a = int(100/self.count)\n",
    "        first_frame = np.random.randint(0,a)\n",
    "        for i,frame in enumerate(self.frame_extract(video_path)):\n",
    "            #if(i % a == first_frame):\n",
    "            faces = face_recognition.face_locations(frame)\n",
    "            try:\n",
    "              top,right,bottom,left = faces[0]\n",
    "              frame = frame[top:bottom,left:right,:]\n",
    "            except:\n",
    "              pass\n",
    "            frames.append(self.transform(frame))\n",
    "            if(len(frames) == self.count):\n",
    "              break\n",
    "        #print(\"no of frames\",len(frames))\n",
    "        frames = torch.stack(frames)\n",
    "        frames = frames[:self.count]\n",
    "        return frames.unsqueeze(0)\n",
    "    def frame_extract(self,path):\n",
    "      vidObj = cv2.VideoCapture(path)\n",
    "      success = 1\n",
    "      while success:\n",
    "          success, image = vidObj.read()\n",
    "          if success:\n",
    "              yield image\n",
    "# def im_plot(tensor):\n",
    "#     image = tensor.cpu().numpy().transpose(1,2,0)\n",
    "#     b,g,r = cv2.split(image)\n",
    "#     image = cv2.merge((r,g,b))\n",
    "#     image = image*[0.22803, 0.22145, 0.216989] +  [0.43216, 0.394666, 0.37645]\n",
    "#     image = image*255.0\n",
    "#     plt.imshow(image.astype(int))\n",
    "#     plt.show()"
   ]
  },
  {
   "cell_type": "code",
   "execution_count": 25,
   "metadata": {
    "colab": {
     "base_uri": "https://localhost:8080/"
    },
    "id": "J8YkC-vwzrkE",
    "outputId": "867eb72b-42bb-43fc-9ad8-a8445fc81ed9"
   },
   "outputs": [
    {
     "name": "stdout",
     "output_type": "stream",
     "text": [
      "/content/drive/My Drive/Datasets/examples_DF/id61_0006.mp4\n",
      "confidence of prediction: 99.9995231628418\n",
      "FAKE\n",
      "/content/drive/My Drive/Datasets/examples_DF/id61_0007.mp4\n",
      "confidence of prediction: 99.99661445617676\n",
      "REAL\n",
      "/content/drive/My Drive/Datasets/examples_DF/id61_0008.mp4\n",
      "confidence of prediction: 97.82088994979858\n",
      "REAL\n",
      "/content/drive/My Drive/Datasets/examples_DF/id61_0009.mp4\n",
      "confidence of prediction: 99.94526505470276\n",
      "REAL\n",
      "/content/drive/My Drive/Datasets/examples_DF/id61_id60_0002.mp4\n",
      "confidence of prediction: 99.99252557754517\n",
      "FAKE\n",
      "/content/drive/My Drive/Datasets/examples_DF/id61_id60_0005.mp4\n",
      "confidence of prediction: 100.0\n",
      "FAKE\n",
      "/content/drive/My Drive/Datasets/examples_DF/id61_id60_0006.mp4\n",
      "confidence of prediction: 100.0\n",
      "FAKE\n",
      "/content/drive/My Drive/Datasets/examples_DF/id61_id60_0009.mp4\n",
      "confidence of prediction: 100.0\n",
      "FAKE\n"
     ]
    }
   ],
   "source": [
    "#Code for making prediction\n",
    "im_size = 112\n",
    "mean=[0.485, 0.456, 0.406]\n",
    "std=[0.229, 0.224, 0.225]\n",
    "\n",
    "train_transforms = transforms.Compose([\n",
    "                                        transforms.ToPILImage(),\n",
    "                                        transforms.Resize((im_size,im_size)),\n",
    "                                        transforms.ToTensor(),\n",
    "                                        transforms.Normalize(mean,std)])\n",
    "\n",
    "#test predict\n",
    "path_to_videos= ['/content/drive/My Drive/Datasets/examples_DF/id61_0006.mp4',\n",
    "                 '/content/drive/My Drive/Datasets/examples_DF/id61_0007.mp4',\n",
    "                 '/content/drive/My Drive/Datasets/examples_DF/id61_0008.mp4',\n",
    "                 '/content/drive/My Drive/Datasets/examples_DF/id61_0009.mp4',\n",
    "                 '/content/drive/My Drive/Datasets/examples_DF/id61_id60_0002.mp4',\n",
    "                 '/content/drive/My Drive/Datasets/examples_DF/id61_id60_0005.mp4',\n",
    "                 '/content/drive/My Drive/Datasets/examples_DF/id61_id60_0006.mp4',\n",
    "                 '/content/drive/My Drive/Datasets/examples_DF/id61_id60_0009.mp4'\n",
    "                 ]\n",
    "#preprocessing for user input\n",
    "\n",
    "#40 frames: 7s\n",
    "video_dataset = validation_dataset(path_to_videos,sequence_length = 40,transform = train_transforms)\n",
    "model = Model(2).cuda()\n",
    "path_to_model = '/content/drive/My Drive/Models/model_89_acc_40_frames_final_data.pt'\n",
    "\n",
    "model.load_state_dict(torch.load(path_to_model, weights_only=True))\n",
    "model.eval()\n",
    "for i in range(0,len(path_to_videos)):\n",
    "  print(path_to_videos[i])\n",
    "  prediction = predict(model,video_dataset[i],'./')\n",
    "  if prediction[0] == 1:\n",
    "    print(\"REAL\")\n",
    "  else:\n",
    "    print(\"FAKE\")"
   ]
  }
 ],
 "metadata": {
  "accelerator": "GPU",
  "colab": {
   "include_colab_link": true,
   "provenance": []
  },
  "kernelspec": {
   "display_name": "Python 3",
   "name": "python3"
  }
 },
 "nbformat": 4,
 "nbformat_minor": 0
}
